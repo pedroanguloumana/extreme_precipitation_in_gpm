{
 "cells": [
  {
   "cell_type": "code",
   "execution_count": null,
   "metadata": {},
   "outputs": [],
   "source": [
    "######\n",
    "# Here we plot the vertical radar profiles of different systems, depending on the morphology\n",
    "######\n",
    "%lo"
   ]
  }
 ],
 "metadata": {
  "language_info": {
   "name": "python"
  }
 },
 "nbformat": 4,
 "nbformat_minor": 2
}
