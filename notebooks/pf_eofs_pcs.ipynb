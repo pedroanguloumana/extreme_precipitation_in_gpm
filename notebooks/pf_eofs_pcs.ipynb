{
 "cells": [
  {
   "cell_type": "markdown",
   "metadata": {},
   "source": [
    "# Generate PC database\n",
    "Here we compute the mean large-scale flow associated with each PF and project it onto the EOFs of vertical mass flux"
   ]
  },
  {
   "cell_type": "code",
   "execution_count": 1,
   "metadata": {},
   "outputs": [],
   "source": [
    "%load_ext autoreload\n",
    "%autoreload 2\n",
    "import xarray as xr\n",
    "import numpy as np\n",
    "import pandas as pd\n",
    "import matplotlib.pyplot as plt\n",
    "import matplotlib.colors as colors\n",
    "from IPython.display import clear_output\n",
    "from src.configs import *\n",
    "from src.plotting import *\n",
    "from src.regions import *\n",
    "from src.pcs import *"
   ]
  },
  {
   "cell_type": "code",
   "execution_count": 2,
   "metadata": {},
   "outputs": [],
   "source": [
    "REGION = 'AFC'\n",
    "RADIUS_IN_DEGS = 5  # RADIUS AROUND PFs TO USE IN COMPUTING ac and as"
   ]
  },
  {
   "cell_type": "code",
   "execution_count": 3,
   "metadata": {},
   "outputs": [],
   "source": [
    "pf_ds = load_pf_stats(REGION)\n",
    "pf_ds = pf_ds.where(pf_ds.mean_latitude.abs() < 10).dropna()"
   ]
  },
  {
   "cell_type": "code",
   "execution_count": 4,
   "metadata": {},
   "outputs": [],
   "source": [
    "pf_lat = pf_ds.mean_latitude.values\n",
    "pf_lon = pf_ds.mean_longitude.values\n",
    "pf_time = pd.to_datetime(pf_ds.observation_time, format='%Y%m%d_%H:%M:%S')\n",
    "pf_day = pf_time.dt.floor('D').values"
   ]
  },
  {
   "cell_type": "code",
   "execution_count": 11,
   "metadata": {},
   "outputs": [],
   "source": [
    "era5_w = xr.open_dataset(merged_era5_var_file('W')).W\n",
    "era5_w['time'] = era5_w['time'].dt.floor('D')\n",
    "era5_w['lon'] = era5_w['lon'] - 180"
   ]
  },
  {
   "cell_type": "code",
   "execution_count": 12,
   "metadata": {},
   "outputs": [],
   "source": [
    "eofs = load_era5_eofs(REGION)"
   ]
  },
  {
   "cell_type": "code",
   "execution_count": 13,
   "metadata": {},
   "outputs": [],
   "source": [
    "def lat_lon_grid_slice(lat0, lon0, time0, radius_in_degs=5):\n",
    "    slice_dict = {\n",
    "        'lat': slice(lat0-radius_in_degs/2, lat0+radius_in_degs/2),\n",
    "        'lon': slice(lon0-radius_in_degs/2, lon0+radius_in_degs/2),\n",
    "        'time': time0\n",
    "    }\n",
    "    return slice_dict"
   ]
  },
  {
   "cell_type": "code",
   "execution_count": 14,
   "metadata": {},
   "outputs": [],
   "source": [
    "grid_slices = [lat_lon_grid_slice(lat0, lon0, time0, radius_in_degs=5) for (lat0, lon0, time0) in zip(pf_lat, pf_lon, pf_day)]"
   ]
  },
  {
   "cell_type": "code",
   "execution_count": 15,
   "metadata": {},
   "outputs": [
    {
     "name": "stdout",
     "output_type": "stream",
     "text": [
      "PF 41584 of 41584 \n"
     ]
    }
   ],
   "source": [
    "pc_database_dict = init_pc_database_dict()\n",
    "for i, gs in enumerate(grid_slices):\n",
    "    clear_output()\n",
    "    print(f'PF {i+1} of {len(grid_slices)} ')\n",
    "    obs_w = era5_w.sel(gs)\n",
    "    assert(obs_w.lat.size>0 and obs_w.lon.size>0)\n",
    "    pf_mf = (-1/9.81)*obs_w.mean(('lat', 'lon'))\n",
    "    pc_database_dict['pc1'].append((eofs.sel(mode=1) * pf_mf).sum().item())\n",
    "    pc_database_dict['pc2'].append((eofs.sel(mode=2) * pf_mf).sum().item())\n",
    "pc_database = pd.DataFrame.from_dict(pc_database_dict)"
   ]
  },
  {
   "cell_type": "code",
   "execution_count": 14,
   "metadata": {},
   "outputs": [],
   "source": [
    "pf_ds.join(pc_database).to_csv(f'{project_root_dir()}/data/{REGION}.tropical_pf_pc_data_5deg.csv')"
   ]
  },
  {
   "cell_type": "markdown",
   "metadata": {},
   "source": [
    "# What is the large-scale circulation associated with PFs?"
   ]
  },
  {
   "cell_type": "code",
   "execution_count": 172,
   "metadata": {},
   "outputs": [],
   "source": [
    "pf_ds = pd.read_csv(f'{project_root_dir()}/data/{REGION}.tropical_pf_pc_data_5deg.csv')"
   ]
  },
  {
   "cell_type": "code",
   "execution_count": 173,
   "metadata": {},
   "outputs": [],
   "source": [
    "pr = (pf_ds.total_precip/pf_ds.num_pixels)\n",
    "epe_id = pr >= pr.quantile(0.99)\n",
    "epe_df = pf_ds.where(epe_id).dropna()"
   ]
  },
  {
   "cell_type": "code",
   "execution_count": 176,
   "metadata": {},
   "outputs": [
    {
     "data": {
      "text/plain": [
       "Text(0, 0.5, 'Normed_PC2')"
      ]
     },
     "execution_count": 176,
     "metadata": {},
     "output_type": "execute_result"
    },
    {
     "data": {
      "image/png": "[encoded data removed]",
      "text/plain": [
       "<Figure size 640x480 with 2 Axes>"
      ]
     },
     "metadata": {},
     "output_type": "display_data"
    }
   ],
   "source": [
    "pc1_normed = pf_ds['pc1']/pf_ds['pc1'].std()\n",
    "pc2_normed = pf_ds['pc2']/pf_ds['pc2'].std()\n",
    "pc_bins = np.arange(-10, 10, 0.25)\n",
    "# Create the 2D histogram\n",
    "hist, xedges, yedges = np.histogram2d(pc1_normed, pc2_normed, bins=[pc_bins, pc_bins])\n",
    "\n",
    "# Plot the 2D histogram\n",
    "fig, ax = plt.subplots()\n",
    "\n",
    "X, Y = np.meshgrid(xedges, yedges)\n",
    "cmap = plt.cm.plasma.copy()\n",
    "cmap.set_under('white')\n",
    "norm = colors.Normalize(vmin=1e-1, vmax=2)\n",
    "c = ax.pcolormesh(X, Y, 100*hist.T/hist.sum(), cmap=cmap, norm=norm)\n",
    "fig.colorbar(c, ax=ax, label='Occurrence freq [%]')\n",
    "ax.set_xlim(-4, 4)\n",
    "ax.set_ylim(-4, 4)\n",
    "ax.set_xlabel('Normed PC1')\n",
    "ax.set_ylabel('Normed_PC2')"
   ]
  },
  {
   "cell_type": "code",
   "execution_count": 149,
   "metadata": {},
   "outputs": [
    {
     "data": {
      "text/plain": [
       "1268.0"
      ]
     },
     "execution_count": 149,
     "metadata": {},
     "output_type": "execute_result"
    }
   ],
   "source": [
    "pc1_normed = pf_ds['pc1']/pf_ds['pc1'].std()\n",
    "pc2_normed = pf_ds['pc2']/pf_ds['pc2'].std()\n",
    "pc_bins = np.arange(-10, 10, 0.25)\n",
    "# Create the 2D histogram\n",
    "hist, xedges, yedges = np.histogram2d(pc1_normed, pc2_normed, bins=[pc_bins, pc_bins])\n",
    "\n",
    "# Plot the 2D histogram\n",
    "fig, ax = plt.subplots()\n",
    "\n",
    "X, Y = np.meshgrid(xedges, yedges)\n",
    "cmap = plt.cm.plasma.copy()\n",
    "cmap.set_under('white')\n",
    "norm = colors.Normalize(vmin=1e-1, vmax=2)\n",
    "c = ax.pcolormesh(X, Y, 100*hist.T/hist.sum(), cmap=cmap, norm=norm)\n",
    "fig.colorbar(c, ax=ax, label='Occurrence freq [%]')\n",
    "ax.set_xlim(-4, 4)\n",
    "ax.set_ylim(-4, 4)\n",
    "ax.set_xlabel('Normed PC1')\n",
    "ax.set_ylabel('Normed_PC2')"
   ]
  },
  {
   "cell_type": "code",
   "execution_count": 177,
   "metadata": {},
   "outputs": [
    {
     "data": {
      "image/png": "[encoded data removed]",
      "text/plain": [
       "<Figure size 640x480 with 2 Axes>"
      ]
     },
     "metadata": {},
     "output_type": "display_data"
    }
   ],
   "source": [
    "import numpy as np\n",
    "import matplotlib.pyplot as plt\n",
    "from matplotlib import colors\n",
    "\n",
    "# Normalizing PC1 and PC2\n",
    "pc1_normed = epe_df['pc1'] / epe_df['pc1'].std()\n",
    "pc2_normed = epe_df['pc2'] / epe_df['pc2'].std()\n",
    "\n",
    "# Define the bin edges\n",
    "pc_bins = np.arange(-10, 10, 0.25)\n",
    "\n",
    "# Create the 2D histogram\n",
    "hist, xedges, yedges = np.histogram2d(pc1_normed, pc2_normed, bins=[pc_bins, pc_bins])\n",
    "\n",
    "# Plot the 2D histogram\n",
    "fig, ax = plt.subplots()\n",
    "\n",
    "X, Y = np.meshgrid(xedges, yedges)\n",
    "cmap = plt.cm.plasma.copy()\n",
    "cmap.set_under('white')\n",
    "norm = colors.Normalize(vmin=1e-1, vmax=2)\n",
    "c = ax.pcolormesh(X, Y, 100 * hist.T / hist.sum(), cmap=cmap, norm=norm)\n",
    "\n",
    "# Add color bar, labels, and set axis limits\n",
    "fig.colorbar(c, ax=ax, label='Occurrence freq [%]')\n",
    "ax.set_xlim(-4, 4)\n",
    "ax.set_ylim(-4, 4)\n",
    "ax.set_xlabel('Normed PC1')\n",
    "ax.set_ylabel('Normed PC2')\n",
    "\n",
    "plt.show()\n"
   ]
  }
 ],
 "metadata": {
  "kernelspec": {
   "display_name": "extreme_precipitation_in_gpm",
   "language": "python",
   "name": "python3"
  },
  "language_info": {
   "codemirror_mode": {
    "name": "ipython",
    "version": 3
   },
   "file_extension": ".py",
   "mimetype": "text/x-python",
   "name": "python",
   "nbconvert_exporter": "python",
   "pygments_lexer": "ipython3",
   "version": "3.12.7"
  }
 },
 "nbformat": 4,
 "nbformat_minor": 2
}
