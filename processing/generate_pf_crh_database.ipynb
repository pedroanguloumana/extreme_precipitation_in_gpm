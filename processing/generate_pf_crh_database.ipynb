{
 "cells": [
  {
   "cell_type": "code",
   "execution_count": 1,
   "metadata": {},
   "outputs": [],
   "source": [
    "%load_ext autoreload\n",
    "%autoreload 2\n",
    "import xarray as xr\n",
    "import os\n",
    "import numpy as np\n",
    "from IPython.display import clear_output\n",
    "from src.configs import *\n",
    "from src.plotting import *\n",
    "from src.pcs import *\n",
    "from src.regions import *"
   ]
  },
  {
   "cell_type": "markdown",
   "metadata": {},
   "source": [
    "# Compute and save gridded CRH"
   ]
  },
  {
   "cell_type": "code",
   "execution_count": 2,
   "metadata": {},
   "outputs": [],
   "source": [
    "crh_file = data_dir('era5.merged.daily_crh.nc')\n",
    "if os.path.isfile(crh_file):\n",
    "    pass\n",
    "else:\n",
    "    q_ds = xr.open_dataset(data_dir('era5.merged.daily_q.nc')).Q.sel(level=np.linspace(100, 1000, 10))\n",
    "    r_ds = xr.open_dataset(data_dir('era5.merged.daily_r.nc')).R.sel(level=np.linspace(100, 1000, 10))\n",
    "    qs = q_ds.copy(data=q_ds.data/r_ds.data).rename('sat_specific_humidity')\n",
    "    crh = q_ds.integrate('level')/qs.integrate('level')\n",
    "    crh.to_netcdf()"
   ]
  },
  {
   "cell_type": "markdown",
   "metadata": {},
   "source": [
    "# Compute local mean CRH around PFs"
   ]
  },
  {
   "cell_type": "code",
   "execution_count": 17,
   "metadata": {},
   "outputs": [],
   "source": [
    "region = afc_region()\n",
    "radius_in_degs = 1"
   ]
  },
  {
   "cell_type": "code",
   "execution_count": 18,
   "metadata": {},
   "outputs": [],
   "source": [
    "# load PFs, look only in tropical region\n",
    "pf_df = load_pf_stats(region.name)\n",
    "pf_df = pf_df.where(pf_df.mean_latitude.abs() < 10).dropna()\n",
    "pc_df = load_pf_stats(region.name)\n",
    "pf_lat = pf_df.precipitation_centroid_latitude.values\n",
    "pf_lon = pf_df.precipitation_centroid_longitude.values\n",
    "pf_time = pd.to_datetime(pf_df.observation_time, format='%Y%m%d_%H:%M:%S')\n",
    "pf_day = pf_time.dt.floor('D').values\n",
    "# load CRH\n",
    "crh = xr.open_dataarray(data_dir('era5.merged.daily_crh.nc'))\n",
    "crh['time'] = crh['time'].dt.floor('D')\n",
    "crh['lon'] = crh.lon - 180"
   ]
  },
  {
   "cell_type": "code",
   "execution_count": 19,
   "metadata": {},
   "outputs": [],
   "source": [
    "def lat_lon_grid_slice(lat0, lon0, time0, radius_in_degs=5):\n",
    "    slice_dict = {\n",
    "        'lat': slice(lat0-radius_in_degs/2, lat0+radius_in_degs/2),\n",
    "        'lon': slice(lon0-radius_in_degs/2, lon0+radius_in_degs/2),\n",
    "        'time': time0\n",
    "    }\n",
    "    return slice_dict\n",
    "grid_slices = [lat_lon_grid_slice(lat0, lon0, time0, radius_in_degs=5) for (lat0, lon0, time0) in zip(pf_lat, pf_lon, pf_day)]"
   ]
  },
  {
   "cell_type": "code",
   "execution_count": 20,
   "metadata": {},
   "outputs": [
    {
     "name": "stdout",
     "output_type": "stream",
     "text": [
      "PF 41584 of 41584 \n"
     ]
    }
   ],
   "source": [
    "crh_database_dict = {'crh': []}\n",
    "for i, gs in enumerate(grid_slices):\n",
    "    clear_output()\n",
    "    print(f'PF {i+1} of {len(grid_slices)} ')\n",
    "    obs_crh = crh.sel(gs)\n",
    "    assert(obs_crh.lat.size>0 and obs_crh.lon.size>0)\n",
    "    crh_database_dict['crh'].append(obs_crh.mean().item())\n",
    "crh_database = pd.DataFrame.from_dict(crh_database_dict)\n",
    "pf_df.join(crh_database).to_csv(data_dir(f'{region.name}.tropical_pf_crh_data_{radius_in_degs}deg.csv'))"
   ]
  }
 ],
 "metadata": {
  "kernelspec": {
   "display_name": "extreme_precipitation_in_gpm",
   "language": "python",
   "name": "python3"
  },
  "language_info": {
   "codemirror_mode": {
    "name": "ipython",
    "version": 3
   },
   "file_extension": ".py",
   "mimetype": "text/x-python",
   "name": "python",
   "nbconvert_exporter": "python",
   "pygments_lexer": "ipython3",
   "version": "3.12.7"
  }
 },
 "nbformat": 4,
 "nbformat_minor": 2
}
