{
 "cells": [
  {
   "cell_type": "code",
   "execution_count": 10,
   "metadata": {},
   "outputs": [
    {
     "name": "stdout",
     "output_type": "stream",
     "text": [
      "The autoreload extension is already loaded. To reload it, use:\n",
      "  %reload_ext autoreload\n"
     ]
    }
   ],
   "source": [
    "%load_ext autoreload \n",
    "%autoreload 2\n",
    "import pandas as pd\n",
    "from src.regions import *\n",
    "from src.pf_stats import *"
   ]
  },
  {
   "cell_type": "code",
   "execution_count": 21,
   "metadata": {},
   "outputs": [],
   "source": [
    "#\n",
    "# Currently configured to only extract Feburary dates to compare to gSAM DYAMOND\n",
    "regions = [\n",
    "    afc_region(), \n",
    "    cio_region(), \n",
    "    wmp_region(), \n",
    "    h01_region(), \n",
    "    h05_region(), \n",
    "    epo_region(),\n",
    "    sam_region(),\n",
    "    sas_region()\n",
    "]\n",
    "pf_stats = pd.concat(\n",
    "    [load_feb_pf_stats(r,trim_region=True, just_tropics=False, maxpr_min=0) for r in regions]\n",
    ")"
   ]
  },
  {
   "cell_type": "code",
   "execution_count": 23,
   "metadata": {},
   "outputs": [],
   "source": [
    "out_file = '/Users/pedro/extreme_precipitation_in_gpm/data/precipitation_feature_database/merged/merged_febs.gpm_pf_stats.global.csv'\n",
    "pf_stats.to_csv(out_file, index=False)"
   ]
  }
 ],
 "metadata": {
  "kernelspec": {
   "display_name": "extreme_precipitation_in_gpm",
   "language": "python",
   "name": "python3"
  },
  "language_info": {
   "codemirror_mode": {
    "name": "ipython",
    "version": 3
   },
   "file_extension": ".py",
   "mimetype": "text/x-python",
   "name": "python",
   "nbconvert_exporter": "python",
   "pygments_lexer": "ipython3",
   "version": "3.12.7"
  }
 },
 "nbformat": 4,
 "nbformat_minor": 2
}
