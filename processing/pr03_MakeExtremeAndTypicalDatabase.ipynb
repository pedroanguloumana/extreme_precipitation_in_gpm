{
 "cells": [
  {
   "cell_type": "code",
   "execution_count": 1,
   "metadata": {},
   "outputs": [],
   "source": [
    "%load_ext autoreload \n",
    "%autoreload 2\n",
    "import pandas as pd\n",
    "from src.regions import *\n",
    "from src.pf_stats import *"
   ]
  },
  {
   "cell_type": "code",
   "execution_count": 2,
   "metadata": {},
   "outputs": [],
   "source": [
    "pf_stats = load_global_pf_stats()"
   ]
  },
  {
   "cell_type": "code",
   "execution_count": 3,
   "metadata": {},
   "outputs": [],
   "source": [
    "ExPS_THRESH = 60\n",
    "TyPS_MIN = pf_stats['max_precip'].quantile(0.25)\n",
    "TyPS_MAX =  pf_stats['max_precip'].quantile(0.75)"
   ]
  },
  {
   "cell_type": "code",
   "execution_count": 4,
   "metadata": {},
   "outputs": [
    {
     "name": "stdout",
     "output_type": "stream",
     "text": [
      "12.276071548461914\n",
      "25.964466094970703\n"
     ]
    }
   ],
   "source": [
    "print(TyPS_MIN)\n",
    "print(TyPS_MAX)"
   ]
  },
  {
   "cell_type": "code",
   "execution_count": 21,
   "metadata": {},
   "outputs": [],
   "source": [
    "ExPS_mask = (pf_stats['max_precip']>=ExPS_THRESH)\n",
    "TyPS_mask = (\n",
    "    (pf_stats['max_precip']>=TyPS_MIN)\n",
    "    & (pf_stats['max_precip']<=TyPS_MAX)\n",
    ")"
   ]
  },
  {
   "cell_type": "code",
   "execution_count": 22,
   "metadata": {},
   "outputs": [],
   "source": [
    "ExPS_stats = pf_stats[ExPS_mask]\n",
    "file = '/Users/pedro/extreme_precipitation_in_gpm/data/precipitation_feature_database/for_casper/global_exps_stats.csv'\n",
    "ExPS_stats.to_csv(\n",
    "    file,\n",
    "    index=False\n",
    ")"
   ]
  },
  {
   "cell_type": "code",
   "execution_count": 23,
   "metadata": {},
   "outputs": [],
   "source": [
    "TyPS_stats = pf_stats[TyPS_mask]\n",
    "file = '/Users/pedro/extreme_precipitation_in_gpm/data/precipitation_feature_database/for_casper/global_typs_stats.csv'\n",
    "TyPS_stats.to_csv(\n",
    "    file,\n",
    "    index=False\n",
    ")"
   ]
  }
 ],
 "metadata": {
  "kernelspec": {
   "display_name": "extreme_precipitation_in_gpm",
   "language": "python",
   "name": "python3"
  },
  "language_info": {
   "codemirror_mode": {
    "name": "ipython",
    "version": 3
   },
   "file_extension": ".py",
   "mimetype": "text/x-python",
   "name": "python",
   "nbconvert_exporter": "python",
   "pygments_lexer": "ipython3",
   "version": "3.12.7"
  }
 },
 "nbformat": 4,
 "nbformat_minor": 2
}
