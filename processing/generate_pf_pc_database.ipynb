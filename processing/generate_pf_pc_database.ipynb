{
 "cells": [
  {
   "cell_type": "markdown",
   "metadata": {},
   "source": [
    "# Generate PC database\n",
    "Here we compute the mean large-scale flow associated with each PF and project it onto the EOFs of vertical mass flux"
   ]
  },
  {
   "cell_type": "code",
   "execution_count": 14,
   "metadata": {},
   "outputs": [
    {
     "name": "stdout",
     "output_type": "stream",
     "text": [
      "The autoreload extension is already loaded. To reload it, use:\n",
      "  %reload_ext autoreload\n"
     ]
    }
   ],
   "source": [
    "%load_ext autoreload\n",
    "%autoreload 2\n",
    "import xarray as xr\n",
    "import numpy as np\n",
    "import pandas as pd\n",
    "import matplotlib.pyplot as plt\n",
    "import matplotlib.colors as colors\n",
    "from IPython.display import clear_output\n",
    "from src.configs import *\n",
    "from src.plotting import *\n",
    "from src.regions import *\n",
    "from src.pcs import *"
   ]
  },
  {
   "cell_type": "code",
   "execution_count": 26,
   "metadata": {},
   "outputs": [],
   "source": [
    "# User inputs\n",
    "# Choose region and size of grid over which to sample ERA5\n",
    "region = wmp_region()\n",
    "grid_size = 2"
   ]
  },
  {
   "cell_type": "code",
   "execution_count": 27,
   "metadata": {},
   "outputs": [],
   "source": [
    "pf_ds = load_pf_stats(region.name)\n",
    "# restrict to tropical regions within -10 to 10\n",
    "pf_ds = pf_ds.where(pf_ds.mean_latitude.abs() < 10).dropna()"
   ]
  },
  {
   "cell_type": "code",
   "execution_count": 28,
   "metadata": {},
   "outputs": [],
   "source": [
    "# extract lat, lon, and time information\n",
    "pf_lat = pf_ds.precipitation_centroid_latitude.values\n",
    "pf_lon = pf_ds.precipitation_centroid_longitude.values\n",
    "pf_time = pd.to_datetime(pf_ds.observation_time, format='%Y%m%d_%H:%M:%S')\n",
    "pf_day = pf_time.dt.floor('D').values"
   ]
  },
  {
   "cell_type": "code",
   "execution_count": 29,
   "metadata": {},
   "outputs": [],
   "source": [
    "# to compute PCs, need to project mean madd flux onto EOFs\n",
    "eofs = load_era5_eofs(region.name)\n",
    "era5_w = xr.open_dataset(merged_era5_var_file('W')).W\n",
    "era5_w['time'] = era5_w['time'].dt.floor('D')\n",
    "era5_w['lon'] = era5_w['lon'] - 180"
   ]
  },
  {
   "cell_type": "code",
   "execution_count": 30,
   "metadata": {},
   "outputs": [],
   "source": [
    "def lat_lon_grid_slice(lat0, lon0, time0, radius_in_degs=5):\n",
    "    slice_dict = {\n",
    "        'lat': slice(lat0-radius_in_degs/2, lat0+radius_in_degs/2),\n",
    "        'lon': slice(lon0-radius_in_degs/2, lon0+radius_in_degs/2),\n",
    "        'time': time0\n",
    "    }\n",
    "    return slice_dict\n",
    "\n",
    "grid_slices = [lat_lon_grid_slice(lat0, lon0, time0, radius_in_degs=5) for (lat0, lon0, time0) in zip(pf_lat, pf_lon, pf_day)]"
   ]
  },
  {
   "cell_type": "code",
   "execution_count": 31,
   "metadata": {},
   "outputs": [
    {
     "name": "stdout",
     "output_type": "stream",
     "text": [
      "PF 62085 of 62085 \n"
     ]
    }
   ],
   "source": [
    "pc_database_dict = init_pc_database_dict()\n",
    "for i, gs in enumerate(grid_slices):\n",
    "    clear_output()\n",
    "    print(f'PF {i+1} of {len(grid_slices)} ')\n",
    "    obs_w = era5_w.sel(gs)\n",
    "    assert(obs_w.lat.size>0 and obs_w.lon.size>0)\n",
    "    pf_mf = (-1/9.81)*obs_w.mean(('lat', 'lon'))\n",
    "    pc_database_dict['pc1'].append((eofs.sel(mode=1) * pf_mf).sum().item())\n",
    "    pc_database_dict['pc2'].append((eofs.sel(mode=2) * pf_mf).sum().item())\n",
    "pc_database = pd.DataFrame.from_dict(pc_database_dict)\n",
    "pf_ds.join(pc_database).to_csv(f'{project_root_dir()}/data/{region.name}.tropical_pf_pc_data_{grid_size}deg.csv')"
   ]
  }
 ],
 "metadata": {
  "kernelspec": {
   "display_name": "extreme_precipitation_in_gpm",
   "language": "python",
   "name": "python3"
  },
  "language_info": {
   "codemirror_mode": {
    "name": "ipython",
    "version": 3
   },
   "file_extension": ".py",
   "mimetype": "text/x-python",
   "name": "python",
   "nbconvert_exporter": "python",
   "pygments_lexer": "ipython3",
   "version": "3.12.7"
  }
 },
 "nbformat": 4,
 "nbformat_minor": 2
}
