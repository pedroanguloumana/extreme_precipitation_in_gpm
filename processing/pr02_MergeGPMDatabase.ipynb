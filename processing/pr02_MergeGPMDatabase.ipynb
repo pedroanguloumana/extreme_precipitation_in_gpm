{
 "cells": [
  {
   "cell_type": "code",
   "execution_count": 2,
   "metadata": {},
   "outputs": [],
   "source": [
    "%load_ext autoreload \n",
    "%autoreload 2\n",
    "import pandas as pd\n",
    "from src.regions import *\n",
    "from src.pf_stats import *"
   ]
  },
  {
   "cell_type": "code",
   "execution_count": 3,
   "metadata": {},
   "outputs": [],
   "source": [
    "#\n",
    "# Currently configured to only extract Feburary dates to compare to gSAM DYAMOND\n",
    "regions = [\n",
    "\n",
    "]\n",
    "pf_stats = pd.concat(\n",
    "    [load_pf_stats(r,trim_region=True, just_tropics=False, maxpr_min=10) for r in regions]\n",
    ")"
   ]
  },
  {
   "cell_type": "code",
   "execution_count": 4,
   "metadata": {},
   "outputs": [],
   "source": [
    "out_file = '/Users/pedro/extreme_precipitation_in_gpm/data/precipitation_feature_database/merged/merged_global.gpm_pf_stats.csv'\n",
    "pf_stats.to_csv(out_file, index=False)"
   ]
  }
 ],
 "metadata": {
  "kernelspec": {
   "display_name": "extreme_precipitation_in_gpm",
   "language": "python",
   "name": "python3"
  },
  "language_info": {
   "codemirror_mode": {
    "name": "ipython",
    "version": 3
   },
   "file_extension": ".py",
   "mimetype": "text/x-python",
   "name": "python",
   "nbconvert_exporter": "python",
   "pygments_lexer": "ipython3",
   "version": "3.12.7"
  }
 },
 "nbformat": 4,
 "nbformat_minor": 2
}
