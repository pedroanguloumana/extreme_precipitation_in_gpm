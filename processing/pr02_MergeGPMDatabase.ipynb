{
 "cells": [
  {
   "cell_type": "code",
   "execution_count": 1,
   "metadata": {},
   "outputs": [],
   "source": [
    "%load_ext autoreload \n",
    "%autoreload 2\n",
    "import pandas as pd\n",
    "from src.regions import *\n",
    "from src.pf_stats import *"
   ]
  },
  {
   "cell_type": "code",
   "execution_count": 3,
   "metadata": {},
   "outputs": [],
   "source": [
    "#\n",
    "# Currently configured to only extract Feburary dates to compare to gSAM DYAMOND\n",
    "regions = [\n",
    "    afc_region(),\n",
    "    wmp_region(),\n",
    "    epo_region(),\n",
    "    h01_region(),\n",
    "    h05_region(),\n",
    "    cio_region(),\n",
    "    sam_region(),\n",
    "    sas_region(),\n",
    "]\n",
    "pf_stats = pd.concat(\n",
    "    [load_pf_stats(r,trim_region=True, just_tropics=False, maxpr_min=0) for r in regions]\n",
    ")"
   ]
  },
  {
   "cell_type": "code",
   "execution_count": 6,
   "metadata": {},
   "outputs": [
    {
     "name": "stdout",
     "output_type": "stream",
     "text": [
      "20150101_00:09:09\n",
      "20150101_01:03:27\n",
      "20150101_07:51:54\n",
      "20150101_04:48:43\n",
      "20150101_00:54:39\n",
      "20150101_04:08:31\n",
      "20150101_01:38:12\n",
      "20150101_02:33:14\n"
     ]
    }
   ],
   "source": [
    "regions = [\n",
    "    afc_region(),\n",
    "    wmp_region(),\n",
    "    epo_region(),\n",
    "    h01_region(),\n",
    "    h05_region(),\n",
    "    cio_region(),\n",
    "    sam_region(),\n",
    "    sas_region(),\n",
    "]\n",
    "\n",
    "for r in regions:\n",
    "    df = load_pf_stats(r)\n",
    "    print(df['observation_time'].min())"
   ]
  },
  {
   "cell_type": "code",
   "execution_count": 4,
   "metadata": {},
   "outputs": [],
   "source": [
    "out_file = '/Users/pedro/extreme_precipitation_in_gpm/data/precipitation_feature_database/merged/merged_global.gpm_pf_stats.csv'\n",
    "pf_stats.to_csv(out_file, index=False)"
   ]
  }
 ],
 "metadata": {
  "kernelspec": {
   "display_name": "extreme_precipitation_in_gpm",
   "language": "python",
   "name": "python3"
  },
  "language_info": {
   "codemirror_mode": {
    "name": "ipython",
    "version": 3
   },
   "file_extension": ".py",
   "mimetype": "text/x-python",
   "name": "python",
   "nbconvert_exporter": "python",
   "pygments_lexer": "ipython3",
   "version": "3.12.7"
  }
 },
 "nbformat": 4,
 "nbformat_minor": 2
}
