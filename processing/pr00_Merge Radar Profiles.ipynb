{
 "cells": [
  {
   "cell_type": "code",
   "execution_count": 2,
   "metadata": {},
   "outputs": [],
   "source": [
    "%load_ext autoreload\n",
    "%autoreload 2\n",
    "import xarray as xr\n",
    "from IPython.display import clear_output\n",
    "from src.radar import *\n",
    "from src.regions import *\n",
    "from src.pf_stats import *"
   ]
  },
  {
   "cell_type": "code",
   "execution_count": 1,
   "metadata": {},
   "outputs": [
    {
     "ename": "NameError",
     "evalue": "name 'h01_region' is not defined",
     "output_type": "error",
     "traceback": [
      "\u001b[0;31m---------------------------------------------------------------------------\u001b[0m",
      "\u001b[0;31mNameError\u001b[0m                                 Traceback (most recent call last)",
      "Cell \u001b[0;32mIn[1], line 4\u001b[0m\n\u001b[1;32m      1\u001b[0m \u001b[38;5;66;03m#\u001b[39;00m\n\u001b[1;32m      2\u001b[0m \u001b[38;5;66;03m# Check that the radar and stats files are the same size\u001b[39;00m\n\u001b[1;32m      3\u001b[0m \u001b[38;5;66;03m#\u001b[39;00m\n\u001b[0;32m----> 4\u001b[0m \u001b[38;5;28;01mfor\u001b[39;00m region \u001b[38;5;129;01min\u001b[39;00m [h01_region(), h05_region(), sas_region(), sam_region()]:\n\u001b[1;32m      5\u001b[0m     \u001b[38;5;28;01mfor\u001b[39;00m year \u001b[38;5;129;01min\u001b[39;00m \u001b[38;5;28mrange\u001b[39m(\u001b[38;5;241m2015\u001b[39m, \u001b[38;5;241m2025\u001b[39m):\n\u001b[1;32m      6\u001b[0m         \u001b[38;5;28;01mfor\u001b[39;00m month \u001b[38;5;129;01min\u001b[39;00m \u001b[38;5;28mrange\u001b[39m(\u001b[38;5;241m2\u001b[39m, \u001b[38;5;241m3\u001b[39m):\n",
      "\u001b[0;31mNameError\u001b[0m: name 'h01_region' is not defined"
     ]
    }
   ],
   "source": [
    "#\n",
    "# Check that the radar and stats files are the same size\n",
    "#\n",
    "for region in [h01_region(), h05_region(), sas_region(), sam_region()]:\n",
    "    for year in range(2015, 2025):\n",
    "        for month in range(2, 3):\n",
    "            clear_output()\n",
    "            print(f'{year}_{month}')\n",
    "            stats_file = f'/Users/pedro/extreme_precipitation_in_gpm/data/precipitation_feature_database/{region.name}/gpm_pf_stats.{region.name}.{year}.{month:02d}.csv'\n",
    "            radar_file = f'/Users/pedro/extreme_precipitation_in_gpm/data/precipitation_feature_database/{region.name}/gpm_pf_radar_profiles.{region.name}.{year}.{month:02d}.nc'\n",
    "\n",
    "            stats = pd.read_csv(stats_file)\n",
    "            radar = xr.open_dataset(radar_file)\n",
    "\n",
    "            assert stats.shape[0]==radar.features.size\n",
    "\n",
    "    #\n",
    "    # Load and merge profiles\n",
    "    #\n",
    "\n",
    "    files = get_feb_radar_files(region)\n",
    "    ds = xr.open_mfdataset(files, combine='nested', concat_dim='features')\n",
    "    fname = f'/Users/pedro/extreme_precipitation_in_gpm/data/precipitation_feature_database/merged/merged_febs.gpm_pf_radar.{region.name}.nc'\n",
    "    ds.to_netcdf(fname)"
   ]
  }
 ],
 "metadata": {
  "kernelspec": {
   "display_name": "extreme_precipitation_in_gpm",
   "language": "python",
   "name": "python3"
  },
  "language_info": {
   "codemirror_mode": {
    "name": "ipython",
    "version": 3
   },
   "file_extension": ".py",
   "mimetype": "text/x-python",
   "name": "python",
   "nbconvert_exporter": "python",
   "pygments_lexer": "ipython3",
   "version": "3.12.7"
  }
 },
 "nbformat": 4,
 "nbformat_minor": 2
}
