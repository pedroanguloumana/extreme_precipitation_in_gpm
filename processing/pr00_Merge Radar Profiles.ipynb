{
 "cells": [
  {
   "cell_type": "code",
   "execution_count": 5,
   "metadata": {},
   "outputs": [
    {
     "name": "stdout",
     "output_type": "stream",
     "text": [
      "The autoreload extension is already loaded. To reload it, use:\n",
      "  %reload_ext autoreload\n"
     ]
    }
   ],
   "source": [
    "%load_ext autoreload\n",
    "%autoreload 2\n",
    "import xarray as xr\n",
    "from IPython.display import clear_output\n",
    "from src.radar import *\n",
    "from src.regions import *\n",
    "from src.pf_stats import *"
   ]
  },
  {
   "cell_type": "code",
   "execution_count": 6,
   "metadata": {},
   "outputs": [
    {
     "name": "stdout",
     "output_type": "stream",
     "text": [
      "2024_12\n"
     ]
    }
   ],
   "source": [
    "#\n",
    "# Check that the radar and stats files are the same size\n",
    "#\n",
    "region = epo_region()\n",
    "for year in range(2015, 2025):\n",
    "    for month in range(1, 13):\n",
    "        clear_output()\n",
    "        print(f'{year}_{month}')\n",
    "        stats_file = f'/Users/pedro/extreme_precipitation_in_gpm/data/precipitation_feature_database/{region.name}/gpm_pf_stats.{region.name}.{year}.{month:02d}.csv'\n",
    "        radar_file = f'/Users/pedro/extreme_precipitation_in_gpm/data/precipitation_feature_database/{region.name}/gpm_pf_radar_profiles.{region.name}.{year}.{month:02d}.nc'\n",
    "\n",
    "        stats = pd.read_csv(stats_file)\n",
    "        radar = xr.open_dataset(radar_file)\n",
    "\n",
    "        assert stats.shape[0]==radar.features.size\n",
    "\n",
    "#\n",
    "# Load and merge profiles\n",
    "#\n",
    "\n",
    "files = get_radar_files(region)\n",
    "ds = xr.open_mfdataset(files, combine='nested', concat_dim='features')\n",
    "fname = f'/Users/pedro/extreme_precipitation_in_gpm/data/precipitation_feature_database/merged/merged.gpm_pf_radar.{region.name}.nc'\n",
    "ds.to_netcdf(fname)"
   ]
  }
 ],
 "metadata": {
  "kernelspec": {
   "display_name": "extreme_precipitation_in_gpm",
   "language": "python",
   "name": "python3"
  },
  "language_info": {
   "codemirror_mode": {
    "name": "ipython",
    "version": 3
   },
   "file_extension": ".py",
   "mimetype": "text/x-python",
   "name": "python",
   "nbconvert_exporter": "python",
   "pygments_lexer": "ipython3",
   "version": "3.12.7"
  }
 },
 "nbformat": 4,
 "nbformat_minor": 2
}
